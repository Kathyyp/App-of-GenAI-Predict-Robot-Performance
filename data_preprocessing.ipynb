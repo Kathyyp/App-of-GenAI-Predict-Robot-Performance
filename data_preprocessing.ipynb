{
 "cells": [
  {
   "cell_type": "markdown",
   "id": "961b442b-0e46-4ca1-9eeb-4b6fc18cff0f",
   "metadata": {},
   "source": [
    "# Tabular-Only Approach"
   ]
  },
  {
   "cell_type": "code",
   "execution_count": 7,
   "id": "85848fc7-486f-4ce0-8080-311f1952a72e",
   "metadata": {},
   "outputs": [],
   "source": [
    "import pandas as pd\n",
    "import numpy as np\n",
    "from sklearn.model_selection import train_test_split, cross_val_score\n",
    "from sklearn.preprocessing import StandardScaler, OneHotEncoder\n",
    "from sklearn.compose import ColumnTransformer\n",
    "from sklearn.pipeline import Pipeline\n",
    "from sklearn.ensemble import RandomForestRegressor\n",
    "import xgboost as xgb\n",
    "import lightgbm as lgb"
   ]
  },
  {
   "cell_type": "code",
   "execution_count": 12,
   "id": "000f6481-0bed-4a34-a282-03f9cea9cbad",
   "metadata": {},
   "outputs": [],
   "source": [
    "# Load the dataset\n",
    "train_df = pd.read_csv('train.csv')\n",
    "test_df = pd.read_csv('test.csv')\n",
    "\n",
    "# Drop rows with missing performance_score (target)\n",
    "train_df = train_df.dropna(subset=['performance_score'])\n",
    "\n",
    "# Define features and target\n",
    "X = train_df.drop(columns=['performance_score'])\n",
    "y = train_df['performance_score']"
   ]
  },
  {
   "cell_type": "code",
   "execution_count": 13,
   "id": "40d8c672-0e6c-420e-b6d5-bb073a68fa30",
   "metadata": {},
   "outputs": [
    {
     "name": "stdout",
     "output_type": "stream",
     "text": [
      "Model: RandomForestRegressor, RMSE: 3.4807728142083576\n"
     ]
    }
   ],
   "source": [
    "# Identify column types\n",
    "numerical_cols = X.select_dtypes(include=['int64', 'float64']).columns.tolist()\n",
    "categorical_cols = X.select_dtypes(include=['object']).columns.tolist()\n",
    "\n",
    "# Preprocessing pipeline\n",
    "preprocessor = ColumnTransformer([\n",
    "    ('num', StandardScaler(), numerical_cols),\n",
    "    ('cat', OneHotEncoder(handle_unknown='ignore'), categorical_cols)\n",
    "])\n",
    "\n",
    "# Model training function\n",
    "def train_model(model, X, y):\n",
    "    pipeline = Pipeline([\n",
    "        ('preprocessor', preprocessor),\n",
    "        ('model', model)\n",
    "    ])\n",
    "    scores = cross_val_score(pipeline, X, y, cv=5, scoring='neg_mean_squared_error')\n",
    "    print(f'Model: {model.__class__.__name__}, RMSE: {np.sqrt(-scores.mean())}')\n",
    "    return pipeline.fit(X, y)\n",
    "\n",
    "# Train models\n",
    "rf_model = train_model(RandomForestRegressor(n_estimators=100, random_state=42), X, y)\n",
    "# xgb_model = train_model(xgb.XGBRegressor(n_estimators=100, random_state=42), X, y)\n",
    "# lgb_model = train_model(lgb.LGBMRegressor(n_estimators=100, random_state=42), X, y)\n",
    "\n",
    "# Predict on test data\n",
    "def predict_and_save(model, test_df, filename):\n",
    "    predictions = model.predict(test_df)\n",
    "    submission = pd.DataFrame({'id': test_df['id'], 'performance_score': predictions})\n",
    "    submission.to_csv(filename, index=False)"
   ]
  },
  {
   "cell_type": "code",
   "execution_count": null,
   "id": "00994d34-109b-447e-8a43-577f849c6404",
   "metadata": {},
   "outputs": [],
   "source": [
    "predict_and_save(rf_model, test_df, 'submission_rf.csv')\n",
    "# predict_and_save(xgb_model, test_df, 'submission_xgb.csv')\n",
    "# predict_and_save(lgb_model, test_df, 'submission_lgb.csv')"
   ]
  }
 ],
 "metadata": {
  "kernelspec": {
   "display_name": "Python 3 (ipykernel)",
   "language": "python",
   "name": "python3"
  },
  "language_info": {
   "codemirror_mode": {
    "name": "ipython",
    "version": 3
   },
   "file_extension": ".py",
   "mimetype": "text/x-python",
   "name": "python",
   "nbconvert_exporter": "python",
   "pygments_lexer": "ipython3",
   "version": "3.10.16"
  }
 },
 "nbformat": 4,
 "nbformat_minor": 5
}
